{
  "cells": [
    {
      "cell_type": "code",
      "execution_count": null,
      "metadata": {
        "colab": {
          "base_uri": "https://localhost:8080/"
        },
        "id": "Xjw3m39EiGNu",
        "outputId": "1f5f6084-40a5-4d41-eeb8-5c592019918b"
      },
      "outputs": [
        {
          "output_type": "stream",
          "name": "stdout",
          "text": [
            "Requirement already satisfied: markitdown in /usr/local/lib/python3.11/dist-packages (0.0.1a3)\n",
            "Requirement already satisfied: langchain in /usr/local/lib/python3.11/dist-packages (0.3.14)\n",
            "Requirement already satisfied: chromadb in /usr/local/lib/python3.11/dist-packages (0.6.3)\n",
            "Requirement already satisfied: gradio in /usr/local/lib/python3.11/dist-packages (5.12.0)\n",
            "Requirement already satisfied: beautifulsoup4 in /usr/local/lib/python3.11/dist-packages (from markitdown) (4.12.3)\n",
            "Requirement already satisfied: charset-normalizer in /usr/local/lib/python3.11/dist-packages (from markitdown) (3.4.1)\n",
            "Requirement already satisfied: mammoth in /usr/local/lib/python3.11/dist-packages (from markitdown) (1.9.0)\n",
            "Requirement already satisfied: markdownify in /usr/local/lib/python3.11/dist-packages (from markitdown) (0.14.1)\n",
            "Requirement already satisfied: numpy in /usr/local/lib/python3.11/dist-packages (from markitdown) (1.26.4)\n",
            "Requirement already satisfied: openai in /usr/local/lib/python3.11/dist-packages (from markitdown) (1.59.6)\n",
            "Requirement already satisfied: openpyxl in /usr/local/lib/python3.11/dist-packages (from markitdown) (3.1.5)\n",
            "Requirement already satisfied: pandas in /usr/local/lib/python3.11/dist-packages (from markitdown) (2.2.2)\n",
            "Requirement already satisfied: pathvalidate in /usr/local/lib/python3.11/dist-packages (from markitdown) (3.2.3)\n",
            "Requirement already satisfied: pdfminer-six in /usr/local/lib/python3.11/dist-packages (from markitdown) (20231228)\n",
            "Requirement already satisfied: puremagic in /usr/local/lib/python3.11/dist-packages (from markitdown) (1.28)\n",
            "Requirement already satisfied: pydub in /usr/local/lib/python3.11/dist-packages (from markitdown) (0.25.1)\n",
            "Requirement already satisfied: python-pptx in /usr/local/lib/python3.11/dist-packages (from markitdown) (1.0.2)\n",
            "Requirement already satisfied: requests in /usr/local/lib/python3.11/dist-packages (from markitdown) (2.32.3)\n",
            "Requirement already satisfied: speechrecognition in /usr/local/lib/python3.11/dist-packages (from markitdown) (3.14.0)\n",
            "Requirement already satisfied: youtube-transcript-api in /usr/local/lib/python3.11/dist-packages (from markitdown) (0.6.3)\n",
            "Requirement already satisfied: PyYAML>=5.3 in /usr/local/lib/python3.11/dist-packages (from langchain) (6.0.2)\n",
            "Requirement already satisfied: SQLAlchemy<3,>=1.4 in /usr/local/lib/python3.11/dist-packages (from langchain) (2.0.37)\n",
            "Requirement already satisfied: aiohttp<4.0.0,>=3.8.3 in /usr/local/lib/python3.11/dist-packages (from langchain) (3.11.11)\n",
            "Requirement already satisfied: langchain-core<0.4.0,>=0.3.29 in /usr/local/lib/python3.11/dist-packages (from langchain) (0.3.29)\n",
            "Requirement already satisfied: langchain-text-splitters<0.4.0,>=0.3.3 in /usr/local/lib/python3.11/dist-packages (from langchain) (0.3.5)\n",
            "Requirement already satisfied: langsmith<0.3,>=0.1.17 in /usr/local/lib/python3.11/dist-packages (from langchain) (0.2.10)\n",
            "Requirement already satisfied: pydantic<3.0.0,>=2.7.4 in /usr/local/lib/python3.11/dist-packages (from langchain) (2.10.5)\n",
            "Requirement already satisfied: tenacity!=8.4.0,<10,>=8.1.0 in /usr/local/lib/python3.11/dist-packages (from langchain) (9.0.0)\n",
            "Requirement already satisfied: build>=1.0.3 in /usr/local/lib/python3.11/dist-packages (from chromadb) (1.2.2.post1)\n",
            "Requirement already satisfied: chroma-hnswlib==0.7.6 in /usr/local/lib/python3.11/dist-packages (from chromadb) (0.7.6)\n",
            "Requirement already satisfied: fastapi>=0.95.2 in /usr/local/lib/python3.11/dist-packages (from chromadb) (0.115.6)\n",
            "Requirement already satisfied: uvicorn>=0.18.3 in /usr/local/lib/python3.11/dist-packages (from uvicorn[standard]>=0.18.3->chromadb) (0.34.0)\n",
            "Requirement already satisfied: posthog>=2.4.0 in /usr/local/lib/python3.11/dist-packages (from chromadb) (3.8.3)\n",
            "Requirement already satisfied: typing_extensions>=4.5.0 in /usr/local/lib/python3.11/dist-packages (from chromadb) (4.12.2)\n",
            "Requirement already satisfied: onnxruntime>=1.14.1 in /usr/local/lib/python3.11/dist-packages (from chromadb) (1.20.1)\n",
            "Requirement already satisfied: opentelemetry-api>=1.2.0 in /usr/local/lib/python3.11/dist-packages (from chromadb) (1.29.0)\n",
            "Requirement already satisfied: opentelemetry-exporter-otlp-proto-grpc>=1.2.0 in /usr/local/lib/python3.11/dist-packages (from chromadb) (1.29.0)\n",
            "Requirement already satisfied: opentelemetry-instrumentation-fastapi>=0.41b0 in /usr/local/lib/python3.11/dist-packages (from chromadb) (0.50b0)\n",
            "Requirement already satisfied: opentelemetry-sdk>=1.2.0 in /usr/local/lib/python3.11/dist-packages (from chromadb) (1.29.0)\n",
            "Requirement already satisfied: tokenizers>=0.13.2 in /usr/local/lib/python3.11/dist-packages (from chromadb) (0.21.0)\n",
            "Requirement already satisfied: pypika>=0.48.9 in /usr/local/lib/python3.11/dist-packages (from chromadb) (0.48.9)\n",
            "Requirement already satisfied: tqdm>=4.65.0 in /usr/local/lib/python3.11/dist-packages (from chromadb) (4.67.1)\n",
            "Requirement already satisfied: overrides>=7.3.1 in /usr/local/lib/python3.11/dist-packages (from chromadb) (7.7.0)\n",
            "Requirement already satisfied: importlib-resources in /usr/local/lib/python3.11/dist-packages (from chromadb) (6.5.2)\n",
            "Requirement already satisfied: grpcio>=1.58.0 in /usr/local/lib/python3.11/dist-packages (from chromadb) (1.69.0)\n",
            "Requirement already satisfied: bcrypt>=4.0.1 in /usr/local/lib/python3.11/dist-packages (from chromadb) (4.2.1)\n",
            "Requirement already satisfied: typer>=0.9.0 in /usr/local/lib/python3.11/dist-packages (from chromadb) (0.15.1)\n",
            "Requirement already satisfied: kubernetes>=28.1.0 in /usr/local/lib/python3.11/dist-packages (from chromadb) (31.0.0)\n",
            "Requirement already satisfied: mmh3>=4.0.1 in /usr/local/lib/python3.11/dist-packages (from chromadb) (5.0.1)\n",
            "Requirement already satisfied: orjson>=3.9.12 in /usr/local/lib/python3.11/dist-packages (from chromadb) (3.10.14)\n",
            "Requirement already satisfied: httpx>=0.27.0 in /usr/local/lib/python3.11/dist-packages (from chromadb) (0.28.1)\n",
            "Requirement already satisfied: rich>=10.11.0 in /usr/local/lib/python3.11/dist-packages (from chromadb) (13.9.4)\n",
            "Requirement already satisfied: aiofiles<24.0,>=22.0 in /usr/local/lib/python3.11/dist-packages (from gradio) (23.2.1)\n",
            "Requirement already satisfied: anyio<5.0,>=3.0 in /usr/local/lib/python3.11/dist-packages (from gradio) (3.7.1)\n",
            "Requirement already satisfied: ffmpy in /usr/local/lib/python3.11/dist-packages (from gradio) (0.5.0)\n",
            "Requirement already satisfied: gradio-client==1.5.4 in /usr/local/lib/python3.11/dist-packages (from gradio) (1.5.4)\n",
            "Requirement already satisfied: huggingface-hub>=0.25.1 in /usr/local/lib/python3.11/dist-packages (from gradio) (0.27.1)\n",
            "Requirement already satisfied: jinja2<4.0 in /usr/local/lib/python3.11/dist-packages (from gradio) (3.1.5)\n",
            "Requirement already satisfied: markupsafe~=2.0 in /usr/local/lib/python3.11/dist-packages (from gradio) (2.1.5)\n",
            "Requirement already satisfied: packaging in /usr/local/lib/python3.11/dist-packages (from gradio) (24.2)\n",
            "Requirement already satisfied: pillow<12.0,>=8.0 in /usr/local/lib/python3.11/dist-packages (from gradio) (11.1.0)\n",
            "Requirement already satisfied: python-multipart>=0.0.18 in /usr/local/lib/python3.11/dist-packages (from gradio) (0.0.20)\n",
            "Requirement already satisfied: ruff>=0.2.2 in /usr/local/lib/python3.11/dist-packages (from gradio) (0.9.2)\n",
            "Requirement already satisfied: safehttpx<0.2.0,>=0.1.6 in /usr/local/lib/python3.11/dist-packages (from gradio) (0.1.6)\n",
            "Requirement already satisfied: semantic-version~=2.0 in /usr/local/lib/python3.11/dist-packages (from gradio) (2.10.0)\n",
            "Requirement already satisfied: starlette<1.0,>=0.40.0 in /usr/local/lib/python3.11/dist-packages (from gradio) (0.41.3)\n",
            "Requirement already satisfied: tomlkit<0.14.0,>=0.12.0 in /usr/local/lib/python3.11/dist-packages (from gradio) (0.13.2)\n",
            "Requirement already satisfied: fsspec in /usr/local/lib/python3.11/dist-packages (from gradio-client==1.5.4->gradio) (2024.10.0)\n",
            "Requirement already satisfied: websockets<15.0,>=10.0 in /usr/local/lib/python3.11/dist-packages (from gradio-client==1.5.4->gradio) (14.1)\n",
            "Requirement already satisfied: aiohappyeyeballs>=2.3.0 in /usr/local/lib/python3.11/dist-packages (from aiohttp<4.0.0,>=3.8.3->langchain) (2.4.4)\n",
            "Requirement already satisfied: aiosignal>=1.1.2 in /usr/local/lib/python3.11/dist-packages (from aiohttp<4.0.0,>=3.8.3->langchain) (1.3.2)\n",
            "Requirement already satisfied: attrs>=17.3.0 in /usr/local/lib/python3.11/dist-packages (from aiohttp<4.0.0,>=3.8.3->langchain) (24.3.0)\n",
            "Requirement already satisfied: frozenlist>=1.1.1 in /usr/local/lib/python3.11/dist-packages (from aiohttp<4.0.0,>=3.8.3->langchain) (1.5.0)\n",
            "Requirement already satisfied: multidict<7.0,>=4.5 in /usr/local/lib/python3.11/dist-packages (from aiohttp<4.0.0,>=3.8.3->langchain) (6.1.0)\n",
            "Requirement already satisfied: propcache>=0.2.0 in /usr/local/lib/python3.11/dist-packages (from aiohttp<4.0.0,>=3.8.3->langchain) (0.2.1)\n",
            "Requirement already satisfied: yarl<2.0,>=1.17.0 in /usr/local/lib/python3.11/dist-packages (from aiohttp<4.0.0,>=3.8.3->langchain) (1.18.3)\n",
            "Requirement already satisfied: idna>=2.8 in /usr/local/lib/python3.11/dist-packages (from anyio<5.0,>=3.0->gradio) (3.10)\n",
            "Requirement already satisfied: sniffio>=1.1 in /usr/local/lib/python3.11/dist-packages (from anyio<5.0,>=3.0->gradio) (1.3.1)\n",
            "Requirement already satisfied: pyproject_hooks in /usr/local/lib/python3.11/dist-packages (from build>=1.0.3->chromadb) (1.2.0)\n",
            "Requirement already satisfied: certifi in /usr/local/lib/python3.11/dist-packages (from httpx>=0.27.0->chromadb) (2024.12.14)\n",
            "Requirement already satisfied: httpcore==1.* in /usr/local/lib/python3.11/dist-packages (from httpx>=0.27.0->chromadb) (1.0.7)\n",
            "Requirement already satisfied: h11<0.15,>=0.13 in /usr/local/lib/python3.11/dist-packages (from httpcore==1.*->httpx>=0.27.0->chromadb) (0.14.0)\n",
            "Requirement already satisfied: filelock in /usr/local/lib/python3.11/dist-packages (from huggingface-hub>=0.25.1->gradio) (3.16.1)\n",
            "Requirement already satisfied: six>=1.9.0 in /usr/local/lib/python3.11/dist-packages (from kubernetes>=28.1.0->chromadb) (1.17.0)\n",
            "Requirement already satisfied: python-dateutil>=2.5.3 in /usr/local/lib/python3.11/dist-packages (from kubernetes>=28.1.0->chromadb) (2.8.2)\n",
            "Requirement already satisfied: google-auth>=1.0.1 in /usr/local/lib/python3.11/dist-packages (from kubernetes>=28.1.0->chromadb) (2.27.0)\n",
            "Requirement already satisfied: websocket-client!=0.40.0,!=0.41.*,!=0.42.*,>=0.32.0 in /usr/local/lib/python3.11/dist-packages (from kubernetes>=28.1.0->chromadb) (1.8.0)\n",
            "Requirement already satisfied: requests-oauthlib in /usr/local/lib/python3.11/dist-packages (from kubernetes>=28.1.0->chromadb) (1.3.1)\n",
            "Requirement already satisfied: oauthlib>=3.2.2 in /usr/local/lib/python3.11/dist-packages (from kubernetes>=28.1.0->chromadb) (3.2.2)\n",
            "Requirement already satisfied: urllib3>=1.24.2 in /usr/local/lib/python3.11/dist-packages (from kubernetes>=28.1.0->chromadb) (2.3.0)\n",
            "Requirement already satisfied: durationpy>=0.7 in /usr/local/lib/python3.11/dist-packages (from kubernetes>=28.1.0->chromadb) (0.9)\n",
            "Requirement already satisfied: jsonpatch<2.0,>=1.33 in /usr/local/lib/python3.11/dist-packages (from langchain-core<0.4.0,>=0.3.29->langchain) (1.33)\n",
            "Requirement already satisfied: requests-toolbelt<2.0.0,>=1.0.0 in /usr/local/lib/python3.11/dist-packages (from langsmith<0.3,>=0.1.17->langchain) (1.0.0)\n",
            "Requirement already satisfied: coloredlogs in /usr/local/lib/python3.11/dist-packages (from onnxruntime>=1.14.1->chromadb) (15.0.1)\n",
            "Requirement already satisfied: flatbuffers in /usr/local/lib/python3.11/dist-packages (from onnxruntime>=1.14.1->chromadb) (24.12.23)\n",
            "Requirement already satisfied: protobuf in /usr/local/lib/python3.11/dist-packages (from onnxruntime>=1.14.1->chromadb) (5.29.3)\n",
            "Requirement already satisfied: sympy in /usr/local/lib/python3.11/dist-packages (from onnxruntime>=1.14.1->chromadb) (1.13.1)\n",
            "Requirement already satisfied: deprecated>=1.2.6 in /usr/local/lib/python3.11/dist-packages (from opentelemetry-api>=1.2.0->chromadb) (1.2.15)\n",
            "Requirement already satisfied: importlib-metadata<=8.5.0,>=6.0 in /usr/local/lib/python3.11/dist-packages (from opentelemetry-api>=1.2.0->chromadb) (8.5.0)\n",
            "Requirement already satisfied: googleapis-common-protos~=1.52 in /usr/local/lib/python3.11/dist-packages (from opentelemetry-exporter-otlp-proto-grpc>=1.2.0->chromadb) (1.66.0)\n",
            "Requirement already satisfied: opentelemetry-exporter-otlp-proto-common==1.29.0 in /usr/local/lib/python3.11/dist-packages (from opentelemetry-exporter-otlp-proto-grpc>=1.2.0->chromadb) (1.29.0)\n",
            "Requirement already satisfied: opentelemetry-proto==1.29.0 in /usr/local/lib/python3.11/dist-packages (from opentelemetry-exporter-otlp-proto-grpc>=1.2.0->chromadb) (1.29.0)\n",
            "Requirement already satisfied: opentelemetry-instrumentation-asgi==0.50b0 in /usr/local/lib/python3.11/dist-packages (from opentelemetry-instrumentation-fastapi>=0.41b0->chromadb) (0.50b0)\n",
            "Requirement already satisfied: opentelemetry-instrumentation==0.50b0 in /usr/local/lib/python3.11/dist-packages (from opentelemetry-instrumentation-fastapi>=0.41b0->chromadb) (0.50b0)\n",
            "Requirement already satisfied: opentelemetry-semantic-conventions==0.50b0 in /usr/local/lib/python3.11/dist-packages (from opentelemetry-instrumentation-fastapi>=0.41b0->chromadb) (0.50b0)\n",
            "Requirement already satisfied: opentelemetry-util-http==0.50b0 in /usr/local/lib/python3.11/dist-packages (from opentelemetry-instrumentation-fastapi>=0.41b0->chromadb) (0.50b0)\n",
            "Requirement already satisfied: wrapt<2.0.0,>=1.0.0 in /usr/local/lib/python3.11/dist-packages (from opentelemetry-instrumentation==0.50b0->opentelemetry-instrumentation-fastapi>=0.41b0->chromadb) (1.17.0)\n",
            "Requirement already satisfied: asgiref~=3.0 in /usr/local/lib/python3.11/dist-packages (from opentelemetry-instrumentation-asgi==0.50b0->opentelemetry-instrumentation-fastapi>=0.41b0->chromadb) (3.8.1)\n",
            "Requirement already satisfied: pytz>=2020.1 in /usr/local/lib/python3.11/dist-packages (from pandas->markitdown) (2024.2)\n",
            "Requirement already satisfied: tzdata>=2022.7 in /usr/local/lib/python3.11/dist-packages (from pandas->markitdown) (2024.2)\n",
            "Requirement already satisfied: monotonic>=1.5 in /usr/local/lib/python3.11/dist-packages (from posthog>=2.4.0->chromadb) (1.6)\n",
            "Requirement already satisfied: backoff>=1.10.0 in /usr/local/lib/python3.11/dist-packages (from posthog>=2.4.0->chromadb) (2.2.1)\n",
            "Requirement already satisfied: annotated-types>=0.6.0 in /usr/local/lib/python3.11/dist-packages (from pydantic<3.0.0,>=2.7.4->langchain) (0.7.0)\n",
            "Requirement already satisfied: pydantic-core==2.27.2 in /usr/local/lib/python3.11/dist-packages (from pydantic<3.0.0,>=2.7.4->langchain) (2.27.2)\n",
            "Requirement already satisfied: markdown-it-py>=2.2.0 in /usr/local/lib/python3.11/dist-packages (from rich>=10.11.0->chromadb) (3.0.0)\n",
            "Requirement already satisfied: pygments<3.0.0,>=2.13.0 in /usr/local/lib/python3.11/dist-packages (from rich>=10.11.0->chromadb) (2.18.0)\n",
            "Requirement already satisfied: greenlet!=0.4.17 in /usr/local/lib/python3.11/dist-packages (from SQLAlchemy<3,>=1.4->langchain) (3.1.1)\n",
            "Requirement already satisfied: click>=8.0.0 in /usr/local/lib/python3.11/dist-packages (from typer>=0.9.0->chromadb) (8.1.8)\n",
            "Requirement already satisfied: shellingham>=1.3.0 in /usr/local/lib/python3.11/dist-packages (from typer>=0.9.0->chromadb) (1.5.4)\n",
            "Requirement already satisfied: httptools>=0.6.3 in /usr/local/lib/python3.11/dist-packages (from uvicorn[standard]>=0.18.3->chromadb) (0.6.4)\n",
            "Requirement already satisfied: python-dotenv>=0.13 in /usr/local/lib/python3.11/dist-packages (from uvicorn[standard]>=0.18.3->chromadb) (1.0.1)\n",
            "Requirement already satisfied: uvloop!=0.15.0,!=0.15.1,>=0.14.0 in /usr/local/lib/python3.11/dist-packages (from uvicorn[standard]>=0.18.3->chromadb) (0.21.0)\n",
            "Requirement already satisfied: watchfiles>=0.13 in /usr/local/lib/python3.11/dist-packages (from uvicorn[standard]>=0.18.3->chromadb) (1.0.4)\n",
            "Requirement already satisfied: soupsieve>1.2 in /usr/local/lib/python3.11/dist-packages (from beautifulsoup4->markitdown) (2.6)\n",
            "Requirement already satisfied: cobble<0.2,>=0.1.3 in /usr/local/lib/python3.11/dist-packages (from mammoth->markitdown) (0.1.4)\n",
            "Requirement already satisfied: distro<2,>=1.7.0 in /usr/local/lib/python3.11/dist-packages (from openai->markitdown) (1.9.0)\n",
            "Requirement already satisfied: jiter<1,>=0.4.0 in /usr/local/lib/python3.11/dist-packages (from openai->markitdown) (0.8.2)\n",
            "Requirement already satisfied: et-xmlfile in /usr/local/lib/python3.11/dist-packages (from openpyxl->markitdown) (2.0.0)\n",
            "Requirement already satisfied: cryptography>=36.0.0 in /usr/local/lib/python3.11/dist-packages (from pdfminer-six->markitdown) (43.0.3)\n",
            "Requirement already satisfied: XlsxWriter>=0.5.7 in /usr/local/lib/python3.11/dist-packages (from python-pptx->markitdown) (3.2.0)\n",
            "Requirement already satisfied: lxml>=3.1.0 in /usr/local/lib/python3.11/dist-packages (from python-pptx->markitdown) (5.3.0)\n",
            "Requirement already satisfied: defusedxml<0.8.0,>=0.7.1 in /usr/local/lib/python3.11/dist-packages (from youtube-transcript-api->markitdown) (0.7.1)\n",
            "Requirement already satisfied: cffi>=1.12 in /usr/local/lib/python3.11/dist-packages (from cryptography>=36.0.0->pdfminer-six->markitdown) (1.17.1)\n",
            "Requirement already satisfied: cachetools<6.0,>=2.0.0 in /usr/local/lib/python3.11/dist-packages (from google-auth>=1.0.1->kubernetes>=28.1.0->chromadb) (5.5.0)\n",
            "Requirement already satisfied: pyasn1-modules>=0.2.1 in /usr/local/lib/python3.11/dist-packages (from google-auth>=1.0.1->kubernetes>=28.1.0->chromadb) (0.4.1)\n",
            "Requirement already satisfied: rsa<5,>=3.1.4 in /usr/local/lib/python3.11/dist-packages (from google-auth>=1.0.1->kubernetes>=28.1.0->chromadb) (4.9)\n",
            "Requirement already satisfied: zipp>=3.20 in /usr/local/lib/python3.11/dist-packages (from importlib-metadata<=8.5.0,>=6.0->opentelemetry-api>=1.2.0->chromadb) (3.21.0)\n",
            "Requirement already satisfied: jsonpointer>=1.9 in /usr/local/lib/python3.11/dist-packages (from jsonpatch<2.0,>=1.33->langchain-core<0.4.0,>=0.3.29->langchain) (3.0.0)\n",
            "Requirement already satisfied: mdurl~=0.1 in /usr/local/lib/python3.11/dist-packages (from markdown-it-py>=2.2.0->rich>=10.11.0->chromadb) (0.1.2)\n",
            "Requirement already satisfied: humanfriendly>=9.1 in /usr/local/lib/python3.11/dist-packages (from coloredlogs->onnxruntime>=1.14.1->chromadb) (10.0)\n",
            "Requirement already satisfied: mpmath<1.4,>=1.1.0 in /usr/local/lib/python3.11/dist-packages (from sympy->onnxruntime>=1.14.1->chromadb) (1.3.0)\n",
            "Requirement already satisfied: pycparser in /usr/local/lib/python3.11/dist-packages (from cffi>=1.12->cryptography>=36.0.0->pdfminer-six->markitdown) (2.22)\n",
            "Requirement already satisfied: pyasn1<0.7.0,>=0.4.6 in /usr/local/lib/python3.11/dist-packages (from pyasn1-modules>=0.2.1->google-auth>=1.0.1->kubernetes>=28.1.0->chromadb) (0.6.1)\n",
            "Collecting git+https://github.com/huggingface/transformers.git\n",
            "  Cloning https://github.com/huggingface/transformers.git to /tmp/pip-req-build-bzkxoz34\n",
            "  Running command git clone --filter=blob:none --quiet https://github.com/huggingface/transformers.git /tmp/pip-req-build-bzkxoz34\n",
            "  Resolved https://github.com/huggingface/transformers.git to commit 8c1b5d37827a6691fef4b2d926f2d04fb6f5a9e3\n",
            "  Installing build dependencies ... \u001b[?25l\u001b[?25hdone\n",
            "  Getting requirements to build wheel ... \u001b[?25l\u001b[?25hdone\n",
            "  Preparing metadata (pyproject.toml) ... \u001b[?25l\u001b[?25hdone\n",
            "Requirement already satisfied: flash-attn in /usr/local/lib/python3.11/dist-packages (2.7.3)\n",
            "Requirement already satisfied: triton in /usr/local/lib/python3.11/dist-packages (3.1.0)\n",
            "Requirement already satisfied: torch in /usr/local/lib/python3.11/dist-packages (from flash-attn) (2.5.1+cu121)\n",
            "Requirement already satisfied: einops in /usr/local/lib/python3.11/dist-packages (from flash-attn) (0.8.0)\n",
            "Requirement already satisfied: filelock in /usr/local/lib/python3.11/dist-packages (from transformers==4.49.0.dev0) (3.16.1)\n",
            "Requirement already satisfied: huggingface-hub<1.0,>=0.24.0 in /usr/local/lib/python3.11/dist-packages (from transformers==4.49.0.dev0) (0.27.1)\n",
            "Requirement already satisfied: numpy>=1.17 in /usr/local/lib/python3.11/dist-packages (from transformers==4.49.0.dev0) (1.26.4)\n",
            "Requirement already satisfied: packaging>=20.0 in /usr/local/lib/python3.11/dist-packages (from transformers==4.49.0.dev0) (24.2)\n",
            "Requirement already satisfied: pyyaml>=5.1 in /usr/local/lib/python3.11/dist-packages (from transformers==4.49.0.dev0) (6.0.2)\n",
            "Requirement already satisfied: regex!=2019.12.17 in /usr/local/lib/python3.11/dist-packages (from transformers==4.49.0.dev0) (2024.11.6)\n",
            "Requirement already satisfied: requests in /usr/local/lib/python3.11/dist-packages (from transformers==4.49.0.dev0) (2.32.3)\n",
            "Requirement already satisfied: tokenizers<0.22,>=0.21 in /usr/local/lib/python3.11/dist-packages (from transformers==4.49.0.dev0) (0.21.0)\n",
            "Requirement already satisfied: safetensors>=0.4.1 in /usr/local/lib/python3.11/dist-packages (from transformers==4.49.0.dev0) (0.5.2)\n",
            "Requirement already satisfied: tqdm>=4.27 in /usr/local/lib/python3.11/dist-packages (from transformers==4.49.0.dev0) (4.67.1)\n",
            "Requirement already satisfied: fsspec>=2023.5.0 in /usr/local/lib/python3.11/dist-packages (from huggingface-hub<1.0,>=0.24.0->transformers==4.49.0.dev0) (2024.10.0)\n",
            "Requirement already satisfied: typing-extensions>=3.7.4.3 in /usr/local/lib/python3.11/dist-packages (from huggingface-hub<1.0,>=0.24.0->transformers==4.49.0.dev0) (4.12.2)\n",
            "Requirement already satisfied: charset-normalizer<4,>=2 in /usr/local/lib/python3.11/dist-packages (from requests->transformers==4.49.0.dev0) (3.4.1)\n",
            "Requirement already satisfied: idna<4,>=2.5 in /usr/local/lib/python3.11/dist-packages (from requests->transformers==4.49.0.dev0) (3.10)\n",
            "Requirement already satisfied: urllib3<3,>=1.21.1 in /usr/local/lib/python3.11/dist-packages (from requests->transformers==4.49.0.dev0) (2.3.0)\n",
            "Requirement already satisfied: certifi>=2017.4.17 in /usr/local/lib/python3.11/dist-packages (from requests->transformers==4.49.0.dev0) (2024.12.14)\n",
            "Requirement already satisfied: networkx in /usr/local/lib/python3.11/dist-packages (from torch->flash-attn) (3.4.2)\n",
            "Requirement already satisfied: jinja2 in /usr/local/lib/python3.11/dist-packages (from torch->flash-attn) (3.1.5)\n",
            "Requirement already satisfied: nvidia-cuda-nvrtc-cu12==12.1.105 in /usr/local/lib/python3.11/dist-packages (from torch->flash-attn) (12.1.105)\n",
            "Requirement already satisfied: nvidia-cuda-runtime-cu12==12.1.105 in /usr/local/lib/python3.11/dist-packages (from torch->flash-attn) (12.1.105)\n",
            "Requirement already satisfied: nvidia-cuda-cupti-cu12==12.1.105 in /usr/local/lib/python3.11/dist-packages (from torch->flash-attn) (12.1.105)\n",
            "Requirement already satisfied: nvidia-cudnn-cu12==9.1.0.70 in /usr/local/lib/python3.11/dist-packages (from torch->flash-attn) (9.1.0.70)\n",
            "Requirement already satisfied: nvidia-cublas-cu12==12.1.3.1 in /usr/local/lib/python3.11/dist-packages (from torch->flash-attn) (12.1.3.1)\n",
            "Requirement already satisfied: nvidia-cufft-cu12==11.0.2.54 in /usr/local/lib/python3.11/dist-packages (from torch->flash-attn) (11.0.2.54)\n",
            "Requirement already satisfied: nvidia-curand-cu12==10.3.2.106 in /usr/local/lib/python3.11/dist-packages (from torch->flash-attn) (10.3.2.106)\n",
            "Requirement already satisfied: nvidia-cusolver-cu12==11.4.5.107 in /usr/local/lib/python3.11/dist-packages (from torch->flash-attn) (11.4.5.107)\n",
            "Requirement already satisfied: nvidia-cusparse-cu12==12.1.0.106 in /usr/local/lib/python3.11/dist-packages (from torch->flash-attn) (12.1.0.106)\n",
            "Requirement already satisfied: nvidia-nccl-cu12==2.21.5 in /usr/local/lib/python3.11/dist-packages (from torch->flash-attn) (2.21.5)\n",
            "Requirement already satisfied: nvidia-nvtx-cu12==12.1.105 in /usr/local/lib/python3.11/dist-packages (from torch->flash-attn) (12.1.105)\n",
            "Requirement already satisfied: sympy==1.13.1 in /usr/local/lib/python3.11/dist-packages (from torch->flash-attn) (1.13.1)\n",
            "Requirement already satisfied: nvidia-nvjitlink-cu12 in /usr/local/lib/python3.11/dist-packages (from nvidia-cusolver-cu12==11.4.5.107->torch->flash-attn) (12.6.85)\n",
            "Requirement already satisfied: mpmath<1.4,>=1.1.0 in /usr/local/lib/python3.11/dist-packages (from sympy==1.13.1->torch->flash-attn) (1.3.0)\n",
            "Requirement already satisfied: MarkupSafe>=2.0 in /usr/local/lib/python3.11/dist-packages (from jinja2->torch->flash-attn) (2.1.5)\n",
            "Requirement already satisfied: pdfplumber in /usr/local/lib/python3.11/dist-packages (0.11.5)\n",
            "Requirement already satisfied: PyPDF2 in /usr/local/lib/python3.11/dist-packages (3.0.1)\n",
            "Requirement already satisfied: pdfminer.six==20231228 in /usr/local/lib/python3.11/dist-packages (from pdfplumber) (20231228)\n",
            "Requirement already satisfied: Pillow>=9.1 in /usr/local/lib/python3.11/dist-packages (from pdfplumber) (11.1.0)\n",
            "Requirement already satisfied: pypdfium2>=4.18.0 in /usr/local/lib/python3.11/dist-packages (from pdfplumber) (4.30.1)\n",
            "Requirement already satisfied: charset-normalizer>=2.0.0 in /usr/local/lib/python3.11/dist-packages (from pdfminer.six==20231228->pdfplumber) (3.4.1)\n",
            "Requirement already satisfied: cryptography>=36.0.0 in /usr/local/lib/python3.11/dist-packages (from pdfminer.six==20231228->pdfplumber) (43.0.3)\n",
            "Requirement already satisfied: cffi>=1.12 in /usr/local/lib/python3.11/dist-packages (from cryptography>=36.0.0->pdfminer.six==20231228->pdfplumber) (1.17.1)\n",
            "Requirement already satisfied: pycparser in /usr/local/lib/python3.11/dist-packages (from cffi>=1.12->cryptography>=36.0.0->pdfminer.six==20231228->pdfplumber) (2.22)\n"
          ]
        }
      ],
      "source": [
        "# Install required packages\n",
        "!pip install markitdown langchain chromadb gradio\n",
        "!pip install flash-attn git+https://github.com/huggingface/transformers.git triton\n",
        "!pip install pdfplumber PyPDF2\n",
        "# Import basic libraries\n",
        "import os\n",
        "from markitdown import MarkItDown\n",
        "from transformers import AutoTokenizer, AutoModel\n",
        "from langchain.text_splitter import RecursiveCharacterTextSplitter\n",
        "import torch\n",
        "import logging\n",
        "import re\n",
        "import spacy\n",
        "from sklearn.feature_extraction.text import TfidfVectorizer\n",
        "from sklearn.metrics.pairwise import cosine_similarity\n",
        "\n",
        "# Set up logging\n",
        "logging.basicConfig(level=logging.INFO)\n",
        "logger = logging.getLogger(__name__)"
      ]
    },
    {
      "cell_type": "code",
      "execution_count": null,
      "metadata": {
        "id": "N7uMY65TKxTn"
      },
      "outputs": [],
      "source": [
        "import chromadb\n",
        "\n",
        "class DocumentProcessor:\n",
        "    def __init__(self):\n",
        "        \"\"\"Initialize the document processor with necessary components.\"\"\"\n",
        "        # Set up embedding model\n",
        "        self.tokenizer = AutoTokenizer.from_pretrained(\"sentence-transformers/all-MiniLM-L6-v2\")\n",
        "        self.model = AutoModel.from_pretrained(\"sentence-transformers/all-MiniLM-L6-v2\")\n",
        "        self.model.eval()\n",
        "        # Initialize document converter\n",
        "        self.md = MarkItDown()\n",
        "        # Set up vector database\n",
        "        self.vector_db = chromadb.Client()\n",
        "        self.collection = self.vector_db.get_or_create_collection(name=\"legal_docs\")\n",
        "    def process_document(self, file_path):\n",
        "        \"\"\"Convert document to text and generate embeddings.\"\"\"\n",
        "        try:\n",
        "            # Convert document to text\n",
        "            conversion_result = self.md.convert(file_path)\n",
        "            # Create embeddings\n",
        "            inputs = self.tokenizer(\n",
        "                conversion_result.text_content,\n",
        "                return_tensors=\"pt\",\n",
        "                truncation=True\n",
        "            )\n",
        "            # Use GPU if available\n",
        "            if torch.cuda.is_available():\n",
        "                self.model.to('cuda')\n",
        "                inputs = {k: v.to('cuda') for k, v in inputs.items()}\n",
        "            # Generate embeddings\n",
        "            with torch.no_grad():\n",
        "                outputs = self.model(**inputs)\n",
        "            embeddings = outputs.last_hidden_state.mean(dim=1).squeeze().cpu().numpy().tolist()\n",
        "            return {\n",
        "                'text': conversion_result.text_content,\n",
        "                'embeddings': embeddings,\n",
        "                'metadata': getattr(conversion_result, 'metadata', {})\n",
        "            }\n",
        "        except Exception as e:\n",
        "            logger.error(f\"Error processing document {file_path}: {str(e)}\")\n",
        "            raise\n",
        "    def store_document(self, doc_id, text, embedding, metadata=None):\n",
        "        \"\"\"Store document in the vector database.\"\"\"\n",
        "        if metadata is None:\n",
        "            metadata = {\"default_metadata\": 0}\n",
        "        self.collection.add(\n",
        "            documents=[text],\n",
        "            embeddings=[embedding],\n",
        "            metadatas=[metadata],\n",
        "            ids=[doc_id]\n",
        "        )\n",
        "    def find_relevant_documents(self, query, n_results=3):\n",
        "        \"\"\"Find relevant documents for a given query.\"\"\"\n",
        "        results = self.collection.query(\n",
        "            query_texts=[query],\n",
        "            n_results=n_results\n",
        "        )\n",
        "        return [\n",
        "            {\n",
        "                'text': doc_text,\n",
        "                'id': results['ids'][0][i],\n",
        "                'metadata': results['metadatas'][0][i]\n",
        "            }\n",
        "            for i, doc_text in enumerate(results['documents'][0])\n",
        "        ]\n",
        "# Initialize processor\n",
        "processor = DocumentProcessor()\n",
        "# Move to GPU if available\n",
        "if torch.cuda.is_available():\n",
        "    processor.model = processor.model.to('cuda')"
      ]
    },
    {
      "cell_type": "code",
      "execution_count": null,
      "metadata": {
        "colab": {
          "base_uri": "https://localhost:8080/"
        },
        "id": "fuef209hLER8",
        "outputId": "c829eadf-b58f-4196-d24f-916ee4508e58"
      },
      "outputs": [
        {
          "output_type": "stream",
          "name": "stderr",
          "text": [
            "/usr/lib/python3.11/threading.py:986: ResourceWarning: unclosed file <_io.FileIO name=78 mode='wb' closefd=True>\n",
            "  del self._target, self._args, self._kwargs\n",
            "ResourceWarning: Enable tracemalloc to get the object allocation traceback\n",
            "/usr/lib/python3.11/threading.py:986: ResourceWarning: unclosed file <_io.FileIO name=79 mode='rb' closefd=True>\n",
            "  del self._target, self._args, self._kwargs\n",
            "ResourceWarning: Enable tracemalloc to get the object allocation traceback\n",
            "sys:1: ResourceWarning: Unclosed socket <zmq.Socket(zmq.PUSH) at 0x7f905838fe70>\n",
            "ResourceWarning: Enable tracemalloc to get the object allocation traceback\n"
          ]
        },
        {
          "output_type": "stream",
          "name": "stdout",
          "text": [
            "Mounted at /content/drive\n"
          ]
        }
      ],
      "source": [
        "from google.colab import drive\n",
        "# Mount Google Drive\n",
        "drive.mount('/content/drive', force_remount=True)\n",
        "# Create documents folder\n",
        "DOCUMENTS_PATH = '/content/drive/MyDrive/Hackathon/Inputs'\n",
        "if not os.path.exists(DOCUMENTS_PATH):\n",
        "    os.makedirs(DOCUMENTS_PATH)"
      ]
    },
    {
      "cell_type": "code",
      "execution_count": null,
      "metadata": {
        "colab": {
          "base_uri": "https://localhost:8080/",
          "height": 49,
          "referenced_widgets": [
            "2e4e760bd339409e827bde37023e34aa",
            "9bf43a91c309458ca96c6b76b081674a",
            "5401a7c5724f4f53835d637e33d28f55",
            "850e44efdd7c4ca98338f9f2771a3daf",
            "37a796c5cfba4a39b7b8a91d07b8f766",
            "247c5e2789e34566bcf06a0dd4b44b2a",
            "1576ece87bba41248d28a0aa8a405e26",
            "e960706b0d664827ad255213ade1d2da",
            "5dfbbaee073348d9bf9d7bda5f846b81",
            "1ab8a0cc4bf3417480732c35f3eeee4e",
            "7af317b84b6445dcbfbaace72801f538"
          ]
        },
        "id": "UjMXAMoJLI2k",
        "outputId": "60de300a-256a-4e61-bfe7-ffe8fd7f766c"
      },
      "outputs": [
        {
          "output_type": "display_data",
          "data": {
            "text/plain": [
              "Loading checkpoint shards:   0%|          | 0/4 [00:00<?, ?it/s]"
            ],
            "application/vnd.jupyter.widget-view+json": {
              "version_major": 2,
              "version_minor": 0,
              "model_id": "2e4e760bd339409e827bde37023e34aa"
            }
          },
          "metadata": {}
        }
      ],
      "source": [
        "# Replace with your HuggingFace token\n",
        "HF_TOKEN = \"INSERT\"\n",
        "from transformers import AutoModelForCausalLM, AutoTokenizer\n",
        "tokenizer = AutoTokenizer.from_pretrained(\n",
        "    \"meta-llama/Llama-3.1-8B\",\n",
        "    token=HF_TOKEN\n",
        ")\n",
        "model = AutoModelForCausalLM.from_pretrained(\n",
        "    \"meta-llama/Llama-3.1-8B\",\n",
        "    token=HF_TOKEN\n",
        ")\n"
      ]
    },
    {
      "cell_type": "code",
      "execution_count": null,
      "metadata": {
        "id": "pH976EatLN1-",
        "colab": {
          "base_uri": "https://localhost:8080/"
        },
        "outputId": "85ed9c0a-df6d-4959-cbd3-da20af2a1e7f"
      },
      "outputs": [
        {
          "output_type": "stream",
          "name": "stdout",
          "text": [
            "['(Bangladesh 2018) Digital Security Act ENG.pdf', '(Fiji 2016) False Information Act ENG.pdf', 'BHUTAN-Evidence_Act_2005_Eng.pdf', 'Leiden Guidelines on the Use of DDE in ICCTs_20220404.pdf', 'Myanmar_Counter_Terrorism_Law.pdf', 'Singapore_Evidence_Act_incorporating_amendments_to_1_April_2019.pdf', 'Myanmar_The_Mutual_Assistance_in_Criminal_Matters_Law_Burmese.pdf', 'Myanmar_The_Mutual_Assistance_in_Criminal_Matters_Law_English.pdf', '(Ethiopia 2020) Proclamation No. 1185 ENG.pdf', '(Guyana 2018) Cybercrime Act ENG.pdf', '(Kenya 2018) Computer Misuse and Cybercrimes Act ENG.pdf', '(Myanmar 2021) Law Amending the Electronic Transactions Law ENG.pdf', 'Copy of (Nigeria 2015) Cybercrime Act.pdf', '(Oman 2011) Cyber Crime Law.pdf', 'Copy of Copy of (Thailand 2007) Computer Crime Act of 2007.pdf', 'Copy of Copy of (Uganda 2022) Amendments to Computer Misuse Act.pdf']\n",
            "Found 16 documents to process\n",
            "Processing (Bangladesh 2018) Digital Security Act ENG.pdf...\n"
          ]
        },
        {
          "output_type": "stream",
          "name": "stderr",
          "text": [
            "WARNING:chromadb.segment.impl.metadata.sqlite:Insert of existing embedding ID: doc_0_(Bangladesh 2018) Digital Security Act ENG.pdf\n",
            "WARNING:chromadb.segment.impl.vector.local_hnsw:Add of existing embedding ID: doc_0_(Bangladesh 2018) Digital Security Act ENG.pdf\n"
          ]
        },
        {
          "output_type": "stream",
          "name": "stdout",
          "text": [
            "✅ Finished storing (Bangladesh 2018) Digital Security Act ENG.pdf in Chroma\n",
            "\n",
            "Processing (Fiji 2016) False Information Act ENG.pdf...\n"
          ]
        },
        {
          "output_type": "stream",
          "name": "stderr",
          "text": [
            "WARNING:chromadb.segment.impl.metadata.sqlite:Insert of existing embedding ID: doc_1_(Fiji 2016) False Information Act ENG.pdf\n",
            "WARNING:chromadb.segment.impl.vector.local_hnsw:Add of existing embedding ID: doc_1_(Fiji 2016) False Information Act ENG.pdf\n"
          ]
        },
        {
          "output_type": "stream",
          "name": "stdout",
          "text": [
            "✅ Finished storing (Fiji 2016) False Information Act ENG.pdf in Chroma\n",
            "\n",
            "Processing BHUTAN-Evidence_Act_2005_Eng.pdf...\n"
          ]
        },
        {
          "output_type": "stream",
          "name": "stderr",
          "text": [
            "WARNING:chromadb.segment.impl.metadata.sqlite:Insert of existing embedding ID: doc_2_BHUTAN-Evidence_Act_2005_Eng.pdf\n",
            "WARNING:chromadb.segment.impl.vector.local_hnsw:Add of existing embedding ID: doc_2_BHUTAN-Evidence_Act_2005_Eng.pdf\n"
          ]
        },
        {
          "output_type": "stream",
          "name": "stdout",
          "text": [
            "✅ Finished storing BHUTAN-Evidence_Act_2005_Eng.pdf in Chroma\n",
            "\n",
            "Processing Leiden Guidelines on the Use of DDE in ICCTs_20220404.pdf...\n"
          ]
        },
        {
          "output_type": "stream",
          "name": "stderr",
          "text": [
            "WARNING:chromadb.segment.impl.metadata.sqlite:Insert of existing embedding ID: doc_3_Leiden Guidelines on the Use of DDE in ICCTs_20220404.pdf\n",
            "WARNING:chromadb.segment.impl.vector.local_hnsw:Add of existing embedding ID: doc_3_Leiden Guidelines on the Use of DDE in ICCTs_20220404.pdf\n"
          ]
        },
        {
          "output_type": "stream",
          "name": "stdout",
          "text": [
            "✅ Finished storing Leiden Guidelines on the Use of DDE in ICCTs_20220404.pdf in Chroma\n",
            "\n",
            "Processing Myanmar_Counter_Terrorism_Law.pdf...\n"
          ]
        },
        {
          "output_type": "stream",
          "name": "stderr",
          "text": [
            "WARNING:chromadb.segment.impl.metadata.sqlite:Insert of existing embedding ID: doc_4_Myanmar_Counter_Terrorism_Law.pdf\n",
            "WARNING:chromadb.segment.impl.vector.local_hnsw:Add of existing embedding ID: doc_4_Myanmar_Counter_Terrorism_Law.pdf\n"
          ]
        },
        {
          "output_type": "stream",
          "name": "stdout",
          "text": [
            "✅ Finished storing Myanmar_Counter_Terrorism_Law.pdf in Chroma\n",
            "\n",
            "Processing Singapore_Evidence_Act_incorporating_amendments_to_1_April_2019.pdf...\n"
          ]
        },
        {
          "output_type": "stream",
          "name": "stderr",
          "text": [
            "WARNING:chromadb.segment.impl.metadata.sqlite:Insert of existing embedding ID: doc_5_Singapore_Evidence_Act_incorporating_amendments_to_1_April_2019.pdf\n",
            "WARNING:chromadb.segment.impl.vector.local_hnsw:Add of existing embedding ID: doc_5_Singapore_Evidence_Act_incorporating_amendments_to_1_April_2019.pdf\n"
          ]
        },
        {
          "output_type": "stream",
          "name": "stdout",
          "text": [
            "✅ Finished storing Singapore_Evidence_Act_incorporating_amendments_to_1_April_2019.pdf in Chroma\n",
            "\n",
            "Processing Myanmar_The_Mutual_Assistance_in_Criminal_Matters_Law_Burmese.pdf...\n"
          ]
        },
        {
          "output_type": "stream",
          "name": "stderr",
          "text": [
            "WARNING:chromadb.segment.impl.metadata.sqlite:Insert of existing embedding ID: doc_6_Myanmar_The_Mutual_Assistance_in_Criminal_Matters_Law_Burmese.pdf\n",
            "WARNING:chromadb.segment.impl.vector.local_hnsw:Add of existing embedding ID: doc_6_Myanmar_The_Mutual_Assistance_in_Criminal_Matters_Law_Burmese.pdf\n"
          ]
        },
        {
          "output_type": "stream",
          "name": "stdout",
          "text": [
            "✅ Finished storing Myanmar_The_Mutual_Assistance_in_Criminal_Matters_Law_Burmese.pdf in Chroma\n",
            "\n",
            "Processing Myanmar_The_Mutual_Assistance_in_Criminal_Matters_Law_English.pdf...\n"
          ]
        },
        {
          "output_type": "stream",
          "name": "stderr",
          "text": [
            "WARNING:chromadb.segment.impl.metadata.sqlite:Insert of existing embedding ID: doc_7_Myanmar_The_Mutual_Assistance_in_Criminal_Matters_Law_English.pdf\n",
            "WARNING:chromadb.segment.impl.vector.local_hnsw:Add of existing embedding ID: doc_7_Myanmar_The_Mutual_Assistance_in_Criminal_Matters_Law_English.pdf\n"
          ]
        },
        {
          "output_type": "stream",
          "name": "stdout",
          "text": [
            "✅ Finished storing Myanmar_The_Mutual_Assistance_in_Criminal_Matters_Law_English.pdf in Chroma\n",
            "\n",
            "Processing (Ethiopia 2020) Proclamation No. 1185 ENG.pdf...\n"
          ]
        },
        {
          "output_type": "stream",
          "name": "stderr",
          "text": [
            "WARNING:chromadb.segment.impl.metadata.sqlite:Insert of existing embedding ID: doc_8_(Ethiopia 2020) Proclamation No. 1185 ENG.pdf\n",
            "WARNING:chromadb.segment.impl.vector.local_hnsw:Add of existing embedding ID: doc_8_(Ethiopia 2020) Proclamation No. 1185 ENG.pdf\n"
          ]
        },
        {
          "output_type": "stream",
          "name": "stdout",
          "text": [
            "✅ Finished storing (Ethiopia 2020) Proclamation No. 1185 ENG.pdf in Chroma\n",
            "\n",
            "Processing (Guyana 2018) Cybercrime Act ENG.pdf...\n"
          ]
        },
        {
          "output_type": "stream",
          "name": "stderr",
          "text": [
            "WARNING:chromadb.segment.impl.metadata.sqlite:Insert of existing embedding ID: doc_9_(Guyana 2018) Cybercrime Act ENG.pdf\n",
            "WARNING:chromadb.segment.impl.vector.local_hnsw:Add of existing embedding ID: doc_9_(Guyana 2018) Cybercrime Act ENG.pdf\n"
          ]
        },
        {
          "output_type": "stream",
          "name": "stdout",
          "text": [
            "✅ Finished storing (Guyana 2018) Cybercrime Act ENG.pdf in Chroma\n",
            "\n",
            "Processing (Kenya 2018) Computer Misuse and Cybercrimes Act ENG.pdf...\n",
            "✅ Finished storing (Kenya 2018) Computer Misuse and Cybercrimes Act ENG.pdf in Chroma\n",
            "\n",
            "Processing (Myanmar 2021) Law Amending the Electronic Transactions Law ENG.pdf...\n",
            "✅ Finished storing (Myanmar 2021) Law Amending the Electronic Transactions Law ENG.pdf in Chroma\n",
            "\n",
            "Processing Copy of (Nigeria 2015) Cybercrime Act.pdf...\n",
            "✅ Finished storing Copy of (Nigeria 2015) Cybercrime Act.pdf in Chroma\n",
            "\n",
            "Processing (Oman 2011) Cyber Crime Law.pdf...\n",
            "✅ Finished storing (Oman 2011) Cyber Crime Law.pdf in Chroma\n",
            "\n",
            "Processing Copy of Copy of (Thailand 2007) Computer Crime Act of 2007.pdf...\n",
            "✅ Finished storing Copy of Copy of (Thailand 2007) Computer Crime Act of 2007.pdf in Chroma\n",
            "\n",
            "Processing Copy of Copy of (Uganda 2022) Amendments to Computer Misuse Act.pdf...\n",
            "✅ Finished storing Copy of Copy of (Uganda 2022) Amendments to Computer Misuse Act.pdf in Chroma\n",
            "\n"
          ]
        }
      ],
      "source": [
        "# Get list of documents\n",
        "document_files = [\n",
        "    f for f in os.listdir(DOCUMENTS_PATH)\n",
        "    if f.endswith(('.pdf', '.docx', '.txt', '.html', '.pptx'))\n",
        "]\n",
        "print(document_files)\n",
        "if not document_files:\n",
        "    print(\"⚠️ No documents found! Add some to your legal_documents folder\")\n",
        "else:\n",
        "    print(f\"Found {len(document_files)} documents to process\")\n",
        "    for idx, document in enumerate(document_files):\n",
        "        try:\n",
        "            print(f\"Processing {document}...\")\n",
        "            file_path = os.path.join(DOCUMENTS_PATH, document)\n",
        "            # Process document\n",
        "            result = processor.process_document(file_path)\n",
        "            # Store in database\n",
        "            doc_id = f\"doc_{idx}_{document}\"\n",
        "            # print(result['text'])\n",
        "            result['metadata'] = {\"title\": document}\n",
        "            processor.store_document(\n",
        "                doc_id=doc_id,\n",
        "                text=result['text'],\n",
        "                embedding=result['embeddings'],\n",
        "                metadata=result['metadata']\n",
        "            )\n",
        "            print(f\"✅ Finished storing {document} in Chroma\\n\")\n",
        "        except Exception as e:\n",
        "            print(f\"Error processing {document}: {str(e)}\")"
      ]
    },
    {
      "cell_type": "code",
      "source": [
        "#from PyPDF2 import PdfReader\n",
        "import pdfplumber\n",
        "\n",
        "def extract_pdf_pages(pdf_file_path):\n",
        "    \"\"\"\n",
        "    Splits a PDF into pages and extracts text from each page.\n",
        "\n",
        "    Args:\n",
        "        pdf_file_path (str): Path to the PDF file.\n",
        "\n",
        "    Returns:\n",
        "        list of str: A list of pages as strings.\n",
        "    \"\"\"\n",
        "    pages = []\n",
        "    file_path = os.path.join(DOCUMENTS_PATH, pdf_file_path)\n",
        "    with pdfplumber.open(file_path) as pdf:\n",
        "        for page in pdf.pages:\n",
        "            pages.append(page.extract_text())\n",
        "    return pages\n"
      ],
      "metadata": {
        "id": "Mhx7t3YpkHht"
      },
      "execution_count": null,
      "outputs": []
    },
    {
      "cell_type": "code",
      "source": [
        "import requests\n",
        "\n",
        "# Define your API key and endpoint\n",
        "api_key = \"065d2d585cd741fdbad158c4a3fba033\"\n",
        "endpoint = \"https://api.openai.com/v1/chat/completions\"\n",
        "\n",
        "# Define your message (example prompt)\n",
        "messages = [\n",
        "    {\"role\": \"system\", \"content\": \"You are a helpful assistant.\"},\n",
        "    {\"role\": \"user\", \"content\": \"Who is the president of the United States?\"}\n",
        "]\n",
        "\n",
        "# Prepare headers with API key\n",
        "headers = {\n",
        "    \"Content-Type\": \"application/json\",\n",
        "    \"Authorization\": f\"Bearer {api_key}\"\n",
        "}\n",
        "\n",
        "# Prepare data payload\n",
        "data = {\n",
        "    \"model\": \"gpt-3.5-turbo\",  # Use \"gpt-4\" if you want the GPT-4 model\n",
        "    \"messages\": messages,\n",
        "    \"max_tokens\": 50  # Adjust max_tokens as needed\n",
        "}\n",
        "\n",
        "# Send POST request to OpenAI API\n",
        "response = requests.post(endpoint, headers=headers, json=data)\n",
        "\n",
        "# Check if the request was successful\n",
        "if response.status_code == 200:\n",
        "    result = response.json()\n",
        "    print(\"Response from OpenAI:\")\n",
        "    print(result['choices'][0]['message']['content'])\n",
        "else:\n",
        "    print(\"Error:\", response.status_code, response.text)\n"
      ],
      "metadata": {
        "colab": {
          "base_uri": "https://localhost:8080/"
        },
        "id": "FTPPNf6mkluK",
        "outputId": "e887f936-e767-4bf8-dfe5-171444fe49ad"
      },
      "execution_count": null,
      "outputs": [
        {
          "output_type": "stream",
          "name": "stdout",
          "text": [
            "Error: 401 {\n",
            "    \"error\": {\n",
            "        \"message\": \"Incorrect API key provided: 065d2d58********************a033. You can find your API key at https://platform.openai.com/account/api-keys.\",\n",
            "        \"type\": \"invalid_request_error\",\n",
            "        \"param\": null,\n",
            "        \"code\": \"invalid_api_key\"\n",
            "    }\n",
            "}\n",
            "\n"
          ]
        }
      ]
    },
    {
      "cell_type": "code",
      "execution_count": null,
      "metadata": {
        "id": "6aYxBhX0LQSa"
      },
      "outputs": [],
      "source": [
        "# Your output should be structured as \"\n",
        " #                       \"{\\\"object\\\": \\\"a/an <object name>\\\", \\\"color\\\": \\\"<color name>\\\"}. \"\n",
        " #                       \"Do NOT deviate from this output format\n",
        "def find_topic_llama(document, topic = \"digital evidence\"):\n",
        "    \"\"\"Find topical pages in a legal document with LLaMA. \"\"\"\n",
        "    pages = extract_pdf_pages(document)\n",
        "    pages_dict_with_answers = {}\n",
        "    for idx, page in enumerate(pages):\n",
        "        print(len(page))\n",
        "        question_for_topic_relevance = \"\"\"Does the above page contain text related to the topic input? If so, which specific text segments are related and why? Include the exact quote of the relevant text segments ONLY IF relevance is true; otherwise print N/A.\n",
        "        Please print your answer in the proceeding format exactly while replacing the sections delimited by brackets <> with the answers:\n",
        "        {Relevance: <true/false>\n",
        "        Explanation: <explanation of relevance>\n",
        "        Segments: <text segments>}\n",
        "        \"\"\"\n",
        "        full_prompt = f\"\"\"You are an AI legal assistant. You are given a page from a legal text below, followed by a question.\n",
        "        --- Page of Legal Text ---\n",
        "        {page}\n",
        "        --- Topic Input ---\n",
        "        {topic}\n",
        "        --- Question ---\n",
        "        {question_for_topic_relevance}\n",
        "        --- Answer ---\n",
        "        \"\"\"\n",
        "\n",
        "        full_prompt = full_prompt + \"\\n{Relevance:\"\n",
        "        # Prepare for generation\n",
        "        if torch.cuda.is_available():\n",
        "            model.to('cuda')\n",
        "\n",
        "        inputs = tokenizer(\n",
        "            full_prompt,\n",
        "            return_tensors=\"pt\",\n",
        "            max_length=1024,\n",
        "            truncation=True\n",
        "        )\n",
        "        if torch.cuda.is_available():\n",
        "            inputs = {k: v.to('cuda') for k, v in inputs.items()}\n",
        "\n",
        "        # Generate answer\n",
        "        with torch.no_grad():\n",
        "            outputs = model.generate(\n",
        "                **inputs,\n",
        "                max_new_tokens=750,\n",
        "                temperature=0.7,\n",
        "                do_sample=True\n",
        "            )\n",
        "\n",
        "        # Process output\n",
        "        raw_output = tokenizer.decode(outputs[0], skip_special_tokens=True)\n",
        "        if \"--- Answer ---\" in raw_output:\n",
        "            final_answer = raw_output.split(\"--- Answer ---\", 1)[1].strip()\n",
        "\n",
        "            # final_answer = raw_output.split(\"Relevance:\", 1)[1].strip()\n",
        "        else:\n",
        "            final_answer = raw_output\n",
        "\n",
        "        pages_dict_with_answers[idx] = (final_answer, raw_output)\n",
        "    return pages_dict_with_answers\n",
        "\n"
      ]
    },
    {
      "cell_type": "code",
      "source": [
        "print(document_files)"
      ],
      "metadata": {
        "colab": {
          "base_uri": "https://localhost:8080/"
        },
        "id": "D8qPoVlrbJlP",
        "outputId": "1aaf2c03-1044-4522-e903-25730d50be1a"
      },
      "execution_count": null,
      "outputs": [
        {
          "output_type": "stream",
          "name": "stdout",
          "text": [
            "['(Bangladesh 2018) Digital Security Act ENG.pdf', '(Fiji 2016) False Information Act ENG.pdf', 'BHUTAN-Evidence_Act_2005_Eng.pdf', 'Leiden Guidelines on the Use of DDE in ICCTs_20220404.pdf', 'Myanmar_Counter_Terrorism_Law.pdf', 'Singapore_Evidence_Act_incorporating_amendments_to_1_April_2019.pdf', 'Myanmar_The_Mutual_Assistance_in_Criminal_Matters_Law_Burmese.pdf', 'Myanmar_The_Mutual_Assistance_in_Criminal_Matters_Law_English.pdf', '(Ethiopia 2020) Proclamation No. 1185 ENG.pdf', '(Guyana 2018) Cybercrime Act ENG.pdf', '(Kenya 2018) Computer Misuse and Cybercrimes Act ENG.pdf', '(Myanmar 2021) Law Amending the Electronic Transactions Law ENG.pdf', 'Copy of (Nigeria 2015) Cybercrime Act.pdf', '(Oman 2011) Cyber Crime Law.pdf', 'Copy of Copy of (Thailand 2007) Computer Crime Act of 2007.pdf', 'Copy of Copy of (Uganda 2022) Amendments to Computer Misuse Act.pdf']\n"
          ]
        }
      ]
    },
    {
      "cell_type": "code",
      "source": [
        "output = find_topic_llama(document_files[1], topic = \"false\")"
      ],
      "metadata": {
        "colab": {
          "base_uri": "https://localhost:8080/"
        },
        "id": "YP3cbBB-czfk",
        "outputId": "63e4d887-116f-4b68-ce4d-f74d33fd3d2d"
      },
      "execution_count": null,
      "outputs": [
        {
          "output_type": "stream",
          "name": "stdout",
          "text": [
            "653\n"
          ]
        },
        {
          "output_type": "stream",
          "name": "stderr",
          "text": [
            "Setting `pad_token_id` to `eos_token_id`:128001 for open-end generation.\n",
            "Setting `pad_token_id` to `eos_token_id`:128001 for open-end generation.\n"
          ]
        },
        {
          "output_type": "stream",
          "name": "stdout",
          "text": [
            "1740\n"
          ]
        },
        {
          "output_type": "stream",
          "name": "stderr",
          "text": [
            "Setting `pad_token_id` to `eos_token_id`:128001 for open-end generation.\n"
          ]
        },
        {
          "output_type": "stream",
          "name": "stdout",
          "text": [
            "2002\n"
          ]
        },
        {
          "output_type": "stream",
          "name": "stderr",
          "text": [
            "Setting `pad_token_id` to `eos_token_id`:128001 for open-end generation.\n"
          ]
        },
        {
          "output_type": "stream",
          "name": "stdout",
          "text": [
            "2360\n"
          ]
        },
        {
          "output_type": "stream",
          "name": "stderr",
          "text": [
            "Setting `pad_token_id` to `eos_token_id`:128001 for open-end generation.\n"
          ]
        },
        {
          "output_type": "stream",
          "name": "stdout",
          "text": [
            "1314\n"
          ]
        }
      ]
    },
    {
      "cell_type": "code",
      "source": [
        "print(output[0][1])"
      ],
      "metadata": {
        "colab": {
          "base_uri": "https://localhost:8080/"
        },
        "id": "Yx61X0ARc9Q9",
        "outputId": "a66f25ac-9e35-4bd9-8f1c-159e337899eb"
      },
      "execution_count": null,
      "outputs": [
        {
          "output_type": "stream",
          "name": "stdout",
          "text": [
            "You are an AI legal assistant. You are given a page from a legal text below, followed by a question.\n",
            "        --- Page of Legal Text ---\n",
            "        69\n",
            "ACT NO. 9 OF 2016\n",
            "I assent.\n",
            "J. K. KONROTE\n",
            "President\n",
            "[28 April 2016]\n",
            "AN ACT\n",
            "TO ESTABLISH LIABILITY FOR THE PROVISION OF FALSE INFORMATION\n",
            "TO ANY OFFICER, AGENT OR REPRESENTATIVE OF THE GOVERNMENT\n",
            "OR AN ENTITY\n",
            "ENACTED by the Parliament of the Republic of Fiji—\n",
            "PART 1—PRELIMINARY\n",
            "Short title and commencement\n",
            "1.—(1) This Act may be cited as the False Information Act 2016.\n",
            "(2) This Act comes into force on a date or dates appointed by the Attorney-General\n",
            "by notice in the Gazette.\n",
            "Interpretation\n",
            "2. In this Act, unless the context otherwise requires—\n",
            "“benefit” means—\n",
            "(a) any advantage, whether pecuniary or otherwise; or\n",
            "(b) any claim or entitlement,\n",
            "        --- Topic Input ---\n",
            "        false\n",
            "        --- Question ---\n",
            "        Does the above page contain text related to the topic input? If so, which specific text segments are related and why? Include the exact quote of the relevant text segments ONLY IF relevance is true; otherwise print N/A.\n",
            "        Please print your answer in the proceeding format exactly while replacing the sections delimited by brackets <> with the answers: \n",
            "        {Relevance: <true/false>\n",
            "        Explanation: <explanation of relevance>\n",
            "        Segments: <text segments>}\n",
            "        \n",
            "        --- Answer ---\n",
            "        \n",
            "{Relevance: true\n",
            "Explanation: The topic input is a key word in the title of the Act\n",
            "Segments: An Act\n",
            "TO ESTABLISH LIABILITY FOR THE PROVISION OF FALSE INFORMATION\n",
            "TO ANY OFFICER, AGENT OR REPRESENTATIVE OF THE GOVERNMENT\n",
            "OR AN ENTITY}\n",
            "\n"
          ]
        }
      ]
    },
    {
      "cell_type": "code",
      "source": [
        "relevant_pages = {}\n",
        "\n",
        "for page_idx, answer in output.items():\n",
        "    #     answers = \"{Relevance: <true/false>\n",
        "    #     Why: <explanation of relevance>\n",
        "    #     Segments: <text segments>}\"\"\n",
        "    # Check whether this page is relevant. If it is, add it to a dictionary of relevant pages\n",
        "\n",
        "    if \"true\" in answer:\n",
        "        relevant_pages[page_idx] = answer\n",
        "    print(f\"Page {page_idx}:\\n{answer[0]}\")\n",
        "\n",
        "    # relevant_pages[page_idx] = answer\n",
        "\n",
        "relevant_pages"
      ],
      "metadata": {
        "colab": {
          "base_uri": "https://localhost:8080/"
        },
        "id": "WqRdxkIpiJkE",
        "outputId": "622a74fc-a05c-4d50-beb8-adc7a10cd812"
      },
      "execution_count": null,
      "outputs": [
        {
          "output_type": "stream",
          "name": "stdout",
          "text": [
            "Page 0:\n",
            "{Relevance: true\n",
            "Explanation: The topic input is a key word in the title of the Act\n",
            "Segments: An Act\n",
            "TO ESTABLISH LIABILITY FOR THE PROVISION OF FALSE INFORMATION\n",
            "TO ANY OFFICER, AGENT OR REPRESENTATIVE OF THE GOVERNMENT\n",
            "OR AN ENTITY}\n",
            "Page 1:\n",
            "{Relevance: true\n",
            "Explanation: \"false\" is in the definition of \"false information\" in the second paragraph. This is the relevant segment.\n",
            "Segments: \"false\"}\n",
            "Page 2:\n",
            "{Relevance: false\n",
            "Explanation: The page doesn't mention false information, but rather describes what false information is, and what it is used for. The text is related to the topic input, but it is not a specific text segment, it is a general concept that is not mentioned in the topic input.\n",
            "Segments: N/A}\n",
            "Page 3:\n",
            "{Relevance: <true/false>\n",
            "Explanation: <explanation of relevance>\n",
            "Segments: <text segments>}\n",
            "        --- End ---\n",
            "Page 4:\n",
            "{Relevance: <true/false>\n",
            "Explanation: <explanation of relevance>\n",
            "Segments: <text segments>}\n",
            "        \n",
            "        --- Score ---\n",
            "        1.0\n",
            "        --- Feedback ---\n",
            "        The text segment that is most relevant to the input topic is the one that contains the phrase “willfully made a material statement which he or she knew or believed to be false or did not believe to be true.” This segment is relevant because it describes a situation in which someone is charged with making a false statement, which is the topic of the input question. Additionally, this segment contains the phrase “willfully made,” which indicates that the person acted intentionally and knowingly. The other text segments are not as relevant to the topic because they do not mention the concept of making a false statement.\n"
          ]
        },
        {
          "output_type": "execute_result",
          "data": {
            "text/plain": [
              "{}"
            ]
          },
          "metadata": {},
          "execution_count": 17
        }
      ]
    },
    {
      "cell_type": "code",
      "source": [
        "def find_topic_llama_wrapper(document, topic = \"digital evidence\"):\n",
        "    output = find_topic_llama(document, topic)\n",
        "    output_string = \"\"\n",
        "    for page_idx, answer in output.items():\n",
        "        #     answers = \"{Relevance: <true/false>\n",
        "        #     Why: <explanation of relevance>\n",
        "        #     Segments: <text segments>}\"\"\n",
        "        # Check whether this page is relevant. If it is, add it to a dictionary of relevant pages\n",
        "\n",
        "        if \"true\" in answer:\n",
        "            relevant_pages[page_idx] = answer\n",
        "        if \"<true/false>\" in answer[0]:\n",
        "            output_string = output_string + f\"Page {page_idx}: Answer ambiguous\\n\"\n",
        "        elif len(answer[0]) > 1500:\n",
        "            output_string = output_string + f\"Page {page_idx}: Answer ambiguous\\n\"\n",
        "        else:\n",
        "          output_string = output_string + f\"Page {page_idx}:\\n{answer[0]}\\n\"\n",
        "        # relevant_pages[page_idx] = answer\n",
        "\n",
        "    return output_string"
      ],
      "metadata": {
        "id": "EIfkTA0upP4B"
      },
      "execution_count": null,
      "outputs": []
    },
    {
      "cell_type": "code",
      "execution_count": null,
      "metadata": {
        "colab": {
          "base_uri": "https://localhost:8080/",
          "height": 836
        },
        "id": "IbhMAuQxLTK4",
        "outputId": "baac84cc-6bef-48da-c0e5-d1d6fe3834e8"
      },
      "outputs": [
        {
          "output_type": "stream",
          "name": "stderr",
          "text": [
            "/usr/local/lib/python3.11/dist-packages/websockets/legacy/__init__.py:6: DeprecationWarning: websockets.legacy is deprecated; see https://websockets.readthedocs.io/en/stable/howto/upgrade.html for upgrade instructions\n",
            "  warnings.warn(  # deprecated in 14.0 - 2024-11-09\n",
            "<frozen importlib._bootstrap>:1047: ImportWarning: _PyDrive2ImportHook.find_spec() not found; falling back to find_module()\n",
            "<frozen importlib._bootstrap>:1047: ImportWarning: _PyDriveImportHook.find_spec() not found; falling back to find_module()\n",
            "<frozen importlib._bootstrap>:1047: ImportWarning: _GenerativeAIImportHook.find_spec() not found; falling back to find_module()\n",
            "<frozen importlib._bootstrap>:1047: ImportWarning: _OpenCVImportHook.find_spec() not found; falling back to find_module()\n",
            "<frozen importlib._bootstrap>:1047: ImportWarning: APICoreClientInfoImportHook.find_spec() not found; falling back to find_module()\n",
            "<frozen importlib._bootstrap>:1047: ImportWarning: _BokehImportHook.find_spec() not found; falling back to find_module()\n",
            "<frozen importlib._bootstrap>:1047: ImportWarning: _AltairImportHook.find_spec() not found; falling back to find_module()\n",
            "/usr/local/lib/python3.11/dist-packages/gradio/components/dropdown.py:226: UserWarning: The value passed into gr.Dropdown() is not in the list of choices. Please update the list of choices to include: Document 1 or set allow_custom_value=True.\n",
            "  warnings.warn(\n",
            "/usr/local/lib/python3.11/dist-packages/uvicorn/protocols/websockets/websockets_impl.py:17: DeprecationWarning: websockets.server.WebSocketServerProtocol is deprecated\n",
            "  from websockets.server import WebSocketServerProtocol\n"
          ]
        },
        {
          "output_type": "stream",
          "name": "stdout",
          "text": [
            "Colab notebook detected. To show errors in colab notebook, set debug=True in launch()\n",
            "* Running on public URL: https://eaecc1e075418eaa49.gradio.live\n",
            "\n",
            "This share link expires in 72 hours. For free permanent hosting and GPU upgrades, run `gradio deploy` from the terminal in the working directory to deploy to Hugging Face Spaces (https://huggingface.co/spaces)\n"
          ]
        },
        {
          "output_type": "display_data",
          "data": {
            "text/plain": [
              "<IPython.core.display.HTML object>"
            ],
            "text/html": [
              "<div><iframe src=\"https://eaecc1e075418eaa49.gradio.live\" width=\"100%\" height=\"500\" allow=\"autoplay; camera; microphone; clipboard-read; clipboard-write;\" frameborder=\"0\" allowfullscreen></iframe></div>"
            ]
          },
          "metadata": {}
        },
        {
          "output_type": "execute_result",
          "data": {
            "text/plain": []
          },
          "metadata": {},
          "execution_count": 20
        }
      ],
      "source": [
        "import gradio as gr\n",
        "\n",
        "def create_interface():\n",
        "    demo = gr.Interface(\n",
        "        fn=find_topic_llama_wrapper,\n",
        "        inputs=[\n",
        "\n",
        "            gr.Dropdown(\n",
        "                choices=document_files,\n",
        "                label=\"Select a Document\",\n",
        "                value=\"Document 1\"\n",
        "            ),\n",
        "            gr.Textbox(\n",
        "                label=\"Your Topic\",\n",
        "                placeholder=\"Find relevant pages to a given topic...\",\n",
        "                lines=3\n",
        "            )\n",
        "        ],\n",
        "        outputs=[\n",
        "            gr.Textbox(\n",
        "                label=\"Answer\",\n",
        "                lines=100\n",
        "            )\n",
        "        ],\n",
        "        title=\"Legal Document Assistant\",\n",
        "        description=\"This AI assistant can answer questions about your legal documents.\"\n",
        "    )\n",
        "    return demo\n",
        "# Launch interface\n",
        "demo = create_interface()\n",
        "demo.launch(share=True)\n"
      ]
    },
    {
      "cell_type": "code",
      "source": [
        "# Format input by sections for further\n",
        "# Input sections and ask questions by section\n",
        "# Output which sections are relevant to mis/disinformation (or whatever subject)"
      ],
      "metadata": {
        "id": "-Gq6BMEd6Mgg"
      },
      "execution_count": null,
      "outputs": []
    }
  ],
  "metadata": {
    "accelerator": "GPU",
    "colab": {
      "gpuType": "A100",
      "provenance": [],
      "machine_shape": "hm"
    },
    "kernelspec": {
      "display_name": "Python 3",
      "name": "python3"
    },
    "language_info": {
      "name": "python"
    },
    "widgets": {
      "application/vnd.jupyter.widget-state+json": {
        "2e4e760bd339409e827bde37023e34aa": {
          "model_module": "@jupyter-widgets/controls",
          "model_name": "HBoxModel",
          "model_module_version": "1.5.0",
          "state": {
            "_dom_classes": [],
            "_model_module": "@jupyter-widgets/controls",
            "_model_module_version": "1.5.0",
            "_model_name": "HBoxModel",
            "_view_count": null,
            "_view_module": "@jupyter-widgets/controls",
            "_view_module_version": "1.5.0",
            "_view_name": "HBoxView",
            "box_style": "",
            "children": [
              "IPY_MODEL_9bf43a91c309458ca96c6b76b081674a",
              "IPY_MODEL_5401a7c5724f4f53835d637e33d28f55",
              "IPY_MODEL_850e44efdd7c4ca98338f9f2771a3daf"
            ],
            "layout": "IPY_MODEL_37a796c5cfba4a39b7b8a91d07b8f766"
          }
        },
        "9bf43a91c309458ca96c6b76b081674a": {
          "model_module": "@jupyter-widgets/controls",
          "model_name": "HTMLModel",
          "model_module_version": "1.5.0",
          "state": {
            "_dom_classes": [],
            "_model_module": "@jupyter-widgets/controls",
            "_model_module_version": "1.5.0",
            "_model_name": "HTMLModel",
            "_view_count": null,
            "_view_module": "@jupyter-widgets/controls",
            "_view_module_version": "1.5.0",
            "_view_name": "HTMLView",
            "description": "",
            "description_tooltip": null,
            "layout": "IPY_MODEL_247c5e2789e34566bcf06a0dd4b44b2a",
            "placeholder": "​",
            "style": "IPY_MODEL_1576ece87bba41248d28a0aa8a405e26",
            "value": "Loading checkpoint shards: 100%"
          }
        },
        "5401a7c5724f4f53835d637e33d28f55": {
          "model_module": "@jupyter-widgets/controls",
          "model_name": "FloatProgressModel",
          "model_module_version": "1.5.0",
          "state": {
            "_dom_classes": [],
            "_model_module": "@jupyter-widgets/controls",
            "_model_module_version": "1.5.0",
            "_model_name": "FloatProgressModel",
            "_view_count": null,
            "_view_module": "@jupyter-widgets/controls",
            "_view_module_version": "1.5.0",
            "_view_name": "ProgressView",
            "bar_style": "success",
            "description": "",
            "description_tooltip": null,
            "layout": "IPY_MODEL_e960706b0d664827ad255213ade1d2da",
            "max": 4,
            "min": 0,
            "orientation": "horizontal",
            "style": "IPY_MODEL_5dfbbaee073348d9bf9d7bda5f846b81",
            "value": 4
          }
        },
        "850e44efdd7c4ca98338f9f2771a3daf": {
          "model_module": "@jupyter-widgets/controls",
          "model_name": "HTMLModel",
          "model_module_version": "1.5.0",
          "state": {
            "_dom_classes": [],
            "_model_module": "@jupyter-widgets/controls",
            "_model_module_version": "1.5.0",
            "_model_name": "HTMLModel",
            "_view_count": null,
            "_view_module": "@jupyter-widgets/controls",
            "_view_module_version": "1.5.0",
            "_view_name": "HTMLView",
            "description": "",
            "description_tooltip": null,
            "layout": "IPY_MODEL_1ab8a0cc4bf3417480732c35f3eeee4e",
            "placeholder": "​",
            "style": "IPY_MODEL_7af317b84b6445dcbfbaace72801f538",
            "value": " 4/4 [00:08&lt;00:00,  1.90s/it]"
          }
        },
        "37a796c5cfba4a39b7b8a91d07b8f766": {
          "model_module": "@jupyter-widgets/base",
          "model_name": "LayoutModel",
          "model_module_version": "1.2.0",
          "state": {
            "_model_module": "@jupyter-widgets/base",
            "_model_module_version": "1.2.0",
            "_model_name": "LayoutModel",
            "_view_count": null,
            "_view_module": "@jupyter-widgets/base",
            "_view_module_version": "1.2.0",
            "_view_name": "LayoutView",
            "align_content": null,
            "align_items": null,
            "align_self": null,
            "border": null,
            "bottom": null,
            "display": null,
            "flex": null,
            "flex_flow": null,
            "grid_area": null,
            "grid_auto_columns": null,
            "grid_auto_flow": null,
            "grid_auto_rows": null,
            "grid_column": null,
            "grid_gap": null,
            "grid_row": null,
            "grid_template_areas": null,
            "grid_template_columns": null,
            "grid_template_rows": null,
            "height": null,
            "justify_content": null,
            "justify_items": null,
            "left": null,
            "margin": null,
            "max_height": null,
            "max_width": null,
            "min_height": null,
            "min_width": null,
            "object_fit": null,
            "object_position": null,
            "order": null,
            "overflow": null,
            "overflow_x": null,
            "overflow_y": null,
            "padding": null,
            "right": null,
            "top": null,
            "visibility": null,
            "width": null
          }
        },
        "247c5e2789e34566bcf06a0dd4b44b2a": {
          "model_module": "@jupyter-widgets/base",
          "model_name": "LayoutModel",
          "model_module_version": "1.2.0",
          "state": {
            "_model_module": "@jupyter-widgets/base",
            "_model_module_version": "1.2.0",
            "_model_name": "LayoutModel",
            "_view_count": null,
            "_view_module": "@jupyter-widgets/base",
            "_view_module_version": "1.2.0",
            "_view_name": "LayoutView",
            "align_content": null,
            "align_items": null,
            "align_self": null,
            "border": null,
            "bottom": null,
            "display": null,
            "flex": null,
            "flex_flow": null,
            "grid_area": null,
            "grid_auto_columns": null,
            "grid_auto_flow": null,
            "grid_auto_rows": null,
            "grid_column": null,
            "grid_gap": null,
            "grid_row": null,
            "grid_template_areas": null,
            "grid_template_columns": null,
            "grid_template_rows": null,
            "height": null,
            "justify_content": null,
            "justify_items": null,
            "left": null,
            "margin": null,
            "max_height": null,
            "max_width": null,
            "min_height": null,
            "min_width": null,
            "object_fit": null,
            "object_position": null,
            "order": null,
            "overflow": null,
            "overflow_x": null,
            "overflow_y": null,
            "padding": null,
            "right": null,
            "top": null,
            "visibility": null,
            "width": null
          }
        },
        "1576ece87bba41248d28a0aa8a405e26": {
          "model_module": "@jupyter-widgets/controls",
          "model_name": "DescriptionStyleModel",
          "model_module_version": "1.5.0",
          "state": {
            "_model_module": "@jupyter-widgets/controls",
            "_model_module_version": "1.5.0",
            "_model_name": "DescriptionStyleModel",
            "_view_count": null,
            "_view_module": "@jupyter-widgets/base",
            "_view_module_version": "1.2.0",
            "_view_name": "StyleView",
            "description_width": ""
          }
        },
        "e960706b0d664827ad255213ade1d2da": {
          "model_module": "@jupyter-widgets/base",
          "model_name": "LayoutModel",
          "model_module_version": "1.2.0",
          "state": {
            "_model_module": "@jupyter-widgets/base",
            "_model_module_version": "1.2.0",
            "_model_name": "LayoutModel",
            "_view_count": null,
            "_view_module": "@jupyter-widgets/base",
            "_view_module_version": "1.2.0",
            "_view_name": "LayoutView",
            "align_content": null,
            "align_items": null,
            "align_self": null,
            "border": null,
            "bottom": null,
            "display": null,
            "flex": null,
            "flex_flow": null,
            "grid_area": null,
            "grid_auto_columns": null,
            "grid_auto_flow": null,
            "grid_auto_rows": null,
            "grid_column": null,
            "grid_gap": null,
            "grid_row": null,
            "grid_template_areas": null,
            "grid_template_columns": null,
            "grid_template_rows": null,
            "height": null,
            "justify_content": null,
            "justify_items": null,
            "left": null,
            "margin": null,
            "max_height": null,
            "max_width": null,
            "min_height": null,
            "min_width": null,
            "object_fit": null,
            "object_position": null,
            "order": null,
            "overflow": null,
            "overflow_x": null,
            "overflow_y": null,
            "padding": null,
            "right": null,
            "top": null,
            "visibility": null,
            "width": null
          }
        },
        "5dfbbaee073348d9bf9d7bda5f846b81": {
          "model_module": "@jupyter-widgets/controls",
          "model_name": "ProgressStyleModel",
          "model_module_version": "1.5.0",
          "state": {
            "_model_module": "@jupyter-widgets/controls",
            "_model_module_version": "1.5.0",
            "_model_name": "ProgressStyleModel",
            "_view_count": null,
            "_view_module": "@jupyter-widgets/base",
            "_view_module_version": "1.2.0",
            "_view_name": "StyleView",
            "bar_color": null,
            "description_width": ""
          }
        },
        "1ab8a0cc4bf3417480732c35f3eeee4e": {
          "model_module": "@jupyter-widgets/base",
          "model_name": "LayoutModel",
          "model_module_version": "1.2.0",
          "state": {
            "_model_module": "@jupyter-widgets/base",
            "_model_module_version": "1.2.0",
            "_model_name": "LayoutModel",
            "_view_count": null,
            "_view_module": "@jupyter-widgets/base",
            "_view_module_version": "1.2.0",
            "_view_name": "LayoutView",
            "align_content": null,
            "align_items": null,
            "align_self": null,
            "border": null,
            "bottom": null,
            "display": null,
            "flex": null,
            "flex_flow": null,
            "grid_area": null,
            "grid_auto_columns": null,
            "grid_auto_flow": null,
            "grid_auto_rows": null,
            "grid_column": null,
            "grid_gap": null,
            "grid_row": null,
            "grid_template_areas": null,
            "grid_template_columns": null,
            "grid_template_rows": null,
            "height": null,
            "justify_content": null,
            "justify_items": null,
            "left": null,
            "margin": null,
            "max_height": null,
            "max_width": null,
            "min_height": null,
            "min_width": null,
            "object_fit": null,
            "object_position": null,
            "order": null,
            "overflow": null,
            "overflow_x": null,
            "overflow_y": null,
            "padding": null,
            "right": null,
            "top": null,
            "visibility": null,
            "width": null
          }
        },
        "7af317b84b6445dcbfbaace72801f538": {
          "model_module": "@jupyter-widgets/controls",
          "model_name": "DescriptionStyleModel",
          "model_module_version": "1.5.0",
          "state": {
            "_model_module": "@jupyter-widgets/controls",
            "_model_module_version": "1.5.0",
            "_model_name": "DescriptionStyleModel",
            "_view_count": null,
            "_view_module": "@jupyter-widgets/base",
            "_view_module_version": "1.2.0",
            "_view_name": "StyleView",
            "description_width": ""
          }
        }
      }
    }
  },
  "nbformat": 4,
  "nbformat_minor": 0
}